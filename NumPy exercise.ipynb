{
 "cells": [
  {
   "cell_type": "code",
   "execution_count": 1,
   "id": "ecf5363a",
   "metadata": {},
   "outputs": [],
   "source": [
    "import numpy as np"
   ]
  },
  {
   "cell_type": "code",
   "execution_count": 4,
   "id": "fd9fbbf2",
   "metadata": {},
   "outputs": [
    {
     "name": "stdout",
     "output_type": "stream",
     "text": [
      "[1 2 3 4 5 6 7]\n",
      "6\n",
      "[[1 2]\n",
      " [3 4]\n",
      " [5 6]\n",
      " [7 8]]\n",
      "4\n"
     ]
    }
   ],
   "source": [
    "# using np.array to create NumPy matrix\n",
    "\n",
    "# 1-D array of size = 7\n",
    "one_dimensional_arr = np.array([1,2,3,4,5,6,7])\n",
    "print(one_dimensional_arr)\n",
    "#print value of index 5\n",
    "print(one_dimensional_arr[5])  \n",
    "\n",
    "# 2-D array of size = (4,2)\n",
    "two_dimensional_arr = np.array([[1,2],[3,4],[5,6],[7,8]])\n",
    "print(two_dimensional_arr)\n",
    "# print value at row = 2 and column = 1\n",
    "print(two_dimensional_arr[1][1])  "
   ]
  },
  {
   "cell_type": "code",
   "execution_count": 7,
   "id": "a384f936",
   "metadata": {},
   "outputs": [
    {
     "name": "stdout",
     "output_type": "stream",
     "text": [
      "[30 31 32 33 34 35 36 37 38 39 40 41 42 43 44 45 46 47 48 49 50 51 52 53\n",
      " 54 55 56 57 58 59 60 61 62 63 64 65 66 67 68 69 70 71 72 73 74 75 76 77\n",
      " 78 79 80 81 82 83 84 85 86 87 88 89 90 91 92 93 94 95 96 97 98 99]\n"
     ]
    }
   ],
   "source": [
    "# creating an array with sequence of integers using np.arange(a,b) \n",
    "# where a is the lower bound (included) and b is the upper bound (excluded)\n",
    "seq_int = np.arange(30,100)\n",
    "print(seq_int)"
   ]
  },
  {
   "cell_type": "code",
   "execution_count": 12,
   "id": "96b88532",
   "metadata": {},
   "outputs": [
    {
     "name": "stdout",
     "output_type": "stream",
     "text": [
      "[[100 101 102 103 104 105 106 107 108 109]\n",
      " [110 111 112 113 114 115 116 117 118 119]\n",
      " [120 121 122 123 124 125 126 127 128 129]\n",
      " [130 131 132 133 134 135 136 137 138 139]\n",
      " [140 141 142 143 144 145 146 147 148 149]\n",
      " [150 151 152 153 154 155 156 157 158 159]\n",
      " [160 161 162 163 164 165 166 167 168 169]\n",
      " [170 171 172 173 174 175 176 177 178 179]\n",
      " [180 181 182 183 184 185 186 187 188 189]\n",
      " [190 191 192 193 194 195 196 197 198 199]]\n"
     ]
    }
   ],
   "source": [
    "# creating a 2-D array using np.arange\n",
    "two_dimensional_seq = np.arange(100,200).reshape(10,10)\n",
    "print(two_dimensional_seq)"
   ]
  },
  {
   "cell_type": "code",
   "execution_count": 20,
   "id": "5b4c08a2",
   "metadata": {},
   "outputs": [
    {
     "name": "stdout",
     "output_type": "stream",
     "text": [
      "[0.94706623 0.12579926 0.81706834 0.92744851 0.8104341  0.3035704\n",
      " 0.72205482 0.06614902 0.62702914 0.3667462 ]\n"
     ]
    }
   ],
   "source": [
    "# creating an array with random floating point values using np.random.random\n",
    "floating_val = np.random.random([10])\n",
    "print(floating_val)\n",
    "\n"
   ]
  },
  {
   "cell_type": "code",
   "execution_count": 22,
   "id": "2fe15c57",
   "metadata": {},
   "outputs": [
    {
     "name": "stdout",
     "output_type": "stream",
     "text": [
      "[[-9.28693531 -9.55924178 -9.47325674 -9.2053433  -9.51589986]\n",
      " [-9.99341928 -9.91366263 -9.38529714 -9.51663401 -9.58291789]\n",
      " [-9.35704551 -9.20283611 -9.79765183 -9.5421631  -9.7447038 ]\n",
      " [-9.94223861 -9.30216518 -9.1780997  -9.38417236 -9.68591792]\n",
      " [-9.17964317 -9.01298337 -9.84252133 -9.36807302 -9.72690727]]\n"
     ]
    }
   ],
   "source": [
    "# create an floating-point array in a range of -10 to 10\n",
    "arr = (np.random.random([5]*2))-10\n",
    "print(arr)"
   ]
  },
  {
   "cell_type": "code",
   "execution_count": 26,
   "id": "a37d3113",
   "metadata": {},
   "outputs": [
    {
     "name": "stdout",
     "output_type": "stream",
     "text": [
      "[[0.79027913 0.95558064 0.24413362 0.4077185 ]\n",
      " [0.33475953 0.86653519 0.46223432 0.54581714]\n",
      " [0.93818963 0.7073354  0.19403873 0.95479883]]\n"
     ]
    }
   ],
   "source": [
    "# create 3x4 matrix of floating-point values\n",
    "matrix = np.random.random(size=(3,4))\n",
    "print(matrix)"
   ]
  },
  {
   "cell_type": "code",
   "execution_count": 25,
   "id": "cffa61ce",
   "metadata": {},
   "outputs": [
    {
     "name": "stdout",
     "output_type": "stream",
     "text": [
      "[[1. 1. 1. 1. 1.]\n",
      " [1. 1. 1. 1. 1.]\n",
      " [1. 1. 1. 1. 1.]\n",
      " [1. 1. 1. 1. 1.]]\n"
     ]
    }
   ],
   "source": [
    "# create 4x5 matrix filled with all ones\n",
    "ones_arr = np.ones(shape=(4,5))\n",
    "print(ones_arr)"
   ]
  },
  {
   "cell_type": "code",
   "execution_count": 27,
   "id": "4f01cce6",
   "metadata": {},
   "outputs": [
    {
     "name": "stdout",
     "output_type": "stream",
     "text": [
      "[[39 36 55]\n",
      " [22 55 35]]\n"
     ]
    }
   ],
   "source": [
    "# create an array with low and high values given\n",
    "array = np.random.randint(low=10, high=90, size=(2,3))\n",
    "print(array)"
   ]
  },
  {
   "cell_type": "code",
   "execution_count": 29,
   "id": "f49345ae",
   "metadata": {},
   "outputs": [
    {
     "name": "stdout",
     "output_type": "stream",
     "text": [
      "[[6 6 6 6 6]\n",
      " [6 6 6 6 6]\n",
      " [6 6 6 6 6]\n",
      " [6 6 6 6 6]]\n"
     ]
    }
   ],
   "source": [
    "# creates a m * n array filled with the given value\n",
    "array_with_one_val = np.full((4,5),6)\n",
    "print(array_with_one_val)"
   ]
  },
  {
   "cell_type": "code",
   "execution_count": 30,
   "id": "dcad74db",
   "metadata": {},
   "outputs": [
    {
     "name": "stdout",
     "output_type": "stream",
     "text": [
      "[[1.7016887e-316 0.0000000e+000 0.0000000e+000]\n",
      " [0.0000000e+000 0.0000000e+000 0.0000000e+000]]\n"
     ]
    }
   ],
   "source": [
    "# using empty function creates an array. Its initial content is random and depends on the state of the memory.\n",
    "empty_arr = np.empty((2,3))\n",
    "print(empty_arr)"
   ]
  },
  {
   "cell_type": "code",
   "execution_count": 32,
   "id": "41d606f7",
   "metadata": {},
   "outputs": [
    {
     "name": "stdout",
     "output_type": "stream",
     "text": [
      "[[1. 0. 0. 0.]\n",
      " [0. 1. 0. 0.]\n",
      " [0. 0. 1. 0.]\n",
      " [0. 0. 0. 1.]]\n"
     ]
    }
   ],
   "source": [
    "# create an array with the diagonal 1s and the others 0\n",
    "diagonal_arr = np.eye(4,4)\n",
    "print(diagonal_arr)"
   ]
  },
  {
   "cell_type": "code",
   "execution_count": 46,
   "id": "e6f26a84",
   "metadata": {},
   "outputs": [
    {
     "name": "stdout",
     "output_type": "stream",
     "text": [
      "[[ 0. 10. 20.]]\n"
     ]
    }
   ],
   "source": [
    "# The function linspace returns evenly spaced numbers over a specified interval. \n",
    "# For example, the below function returns five equally spaced numbers between the interval 0 and 16.\n",
    "linspace_arr = np.linspace(0,20, num=3)\n",
    "print(linspace_arr)"
   ]
  },
  {
   "cell_type": "code",
   "execution_count": 47,
   "id": "da1fea2b",
   "metadata": {},
   "outputs": [
    {
     "name": "stdout",
     "output_type": "stream",
     "text": [
      "[[ 2. 20.]\n",
      " [ 4. 25.]\n",
      " [ 6. 30.]\n",
      " [ 8. 35.]\n",
      " [10. 40.]]\n"
     ]
    }
   ],
   "source": [
    "# create 2-D array using linspace\n",
    "two_dim_Arr = np.linspace([2,20],[10,40],num=5)\n",
    "print(two_dim_Arr)"
   ]
  },
  {
   "cell_type": "code",
   "execution_count": null,
   "id": "096cbeee",
   "metadata": {},
   "outputs": [],
   "source": []
  }
 ],
 "metadata": {
  "kernelspec": {
   "display_name": "Python 3",
   "language": "python",
   "name": "python3"
  },
  "language_info": {
   "codemirror_mode": {
    "name": "ipython",
    "version": 3
   },
   "file_extension": ".py",
   "mimetype": "text/x-python",
   "name": "python",
   "nbconvert_exporter": "python",
   "pygments_lexer": "ipython3",
   "version": "3.8.6"
  }
 },
 "nbformat": 4,
 "nbformat_minor": 5
}
