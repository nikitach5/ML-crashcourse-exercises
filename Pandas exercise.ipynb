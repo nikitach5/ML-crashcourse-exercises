{
 "cells": [
  {
   "cell_type": "code",
   "execution_count": 1,
   "id": "cf17d1eb",
   "metadata": {},
   "outputs": [],
   "source": [
    "import numpy as np\n",
    "import pandas as pd"
   ]
  },
  {
   "cell_type": "code",
   "execution_count": 2,
   "id": "06678753",
   "metadata": {},
   "outputs": [
    {
     "name": "stdout",
     "output_type": "stream",
     "text": [
      "   temperature  activity\n",
      "0            0         3\n",
      "1            5         7\n",
      "2           20        10\n",
      "3           30        32\n",
      "4           40        17\n"
     ]
    }
   ],
   "source": [
    "# Create and populate a 5x3 NumPy array.\n",
    "data = np.array([[0, 3], [5, 7], [20, 10], [30, 32], [40, 17]])\n",
    "\n",
    "# Create a Python list that holds the names of the three columns.\n",
    "column_names = ['temperature', 'activity']\n",
    "\n",
    "# Create a DataFrame.\n",
    "df = pd.DataFrame(data=data, columns=column_names)\n",
    "\n",
    "# Print the entire DataFrame\n",
    "print(df)"
   ]
  },
  {
   "cell_type": "code",
   "execution_count": 3,
   "id": "1d8dc895",
   "metadata": {},
   "outputs": [
    {
     "name": "stdout",
     "output_type": "stream",
     "text": [
      "   temperature  activity  marks\n",
      "0            0         3      6\n",
      "1            5         7     19\n",
      "2           20        10     40\n",
      "3           30        32     94\n",
      "4           40        17     74\n"
     ]
    }
   ],
   "source": [
    "# adding new column\n",
    "df['marks'] = df['temperature'] + df['activity']*2\n",
    "print(df)"
   ]
  },
  {
   "cell_type": "code",
   "execution_count": 4,
   "id": "139b1975",
   "metadata": {},
   "outputs": [
    {
     "name": "stdout",
     "output_type": "stream",
     "text": [
      "   Eleanor  Chidi  Tahani  Jason\n",
      "0       85     73      35     40\n",
      "1       91     75      66     56\n",
      "2        7     54      72     80\n"
     ]
    }
   ],
   "source": [
    "# Create an 3x4 (3 rows x 4 columns) pandas DataFrame in which the columns are named \n",
    "# Eleanor, Chidi, Tahani, and Jason. \n",
    "# Populate each of the 12 cells in the DataFrame with a random integer between 0 and 100, inclusive.\n",
    "\n",
    "arr = np.random.randint(low=0,high=101,size=(3,4))\n",
    "column = ['Eleanor','Chidi','Tahani','Jason']\n",
    "\n",
    "data_frame = pd.DataFrame(data=arr,columns=column)\n",
    "\n",
    "print(data_frame)"
   ]
  },
  {
   "cell_type": "code",
   "execution_count": 5,
   "id": "4e27a371",
   "metadata": {},
   "outputs": [
    {
     "name": "stdout",
     "output_type": "stream",
     "text": [
      "91\n"
     ]
    }
   ],
   "source": [
    "# output the value in the cell of row #1 of the Eleanor column\n",
    "print(data_frame['Eleanor'][1])"
   ]
  },
  {
   "cell_type": "code",
   "execution_count": 6,
   "id": "514c45bc",
   "metadata": {},
   "outputs": [
    {
     "name": "stdout",
     "output_type": "stream",
     "text": [
      "   Eleanor  Chidi  Tahani  Jason     Janet\n",
      "0       85     73      35     40  0.875000\n",
      "1       91     75      66     56  1.178571\n",
      "2        7     54      72     80  0.900000\n"
     ]
    }
   ],
   "source": [
    "# Create a fifth column named Janet, which is populated with the row-by-row division of Tahani and Jason\n",
    "data_frame['Janet'] = data_frame['Tahani']/data_frame['Jason']\n",
    "print(data_frame)"
   ]
  },
  {
   "cell_type": "code",
   "execution_count": 8,
   "id": "72637de3",
   "metadata": {},
   "outputs": [
    {
     "name": "stdout",
     "output_type": "stream",
     "text": [
      "Experiment with a reference:\n",
      "  Starting value of data_frame: 61\n",
      "  Starting value of reference_df: 61\n",
      "\n",
      "  Updated data_frame: 66\n",
      "  Updated reference_df: 66\n",
      "\n",
      "\n",
      "Experiment with a true copy:\n",
      "  Starting value of my_df: 10\n",
      "  Starting value of copy_dataframe: 10\n",
      "\n",
      "  Updated df: 13\n",
      "  copy_dataframe does not get updated: 10\n"
     ]
    }
   ],
   "source": [
    "# Create a reference by assigning data_frame to a new variable.\n",
    "print(\"Experiment with a reference:\")\n",
    "reference_df = data_frame\n",
    "\n",
    "# Print the starting value of a particular cell.\n",
    "print(\"  Starting value of data_frame: %d\" % data_frame['Jason'][1])\n",
    "print(\"  Starting value of reference_df: %d\\n\" % reference_df['Jason'][1])\n",
    "\n",
    "# Modify a cell in df.\n",
    "data_frame.at[1, 'Jason'] = data_frame['Jason'][1] + 5\n",
    "print(\"  Updated data_frame: %d\" % data_frame['Jason'][1])\n",
    "print(\"  Updated reference_df: %d\\n\\n\" % reference_df['Jason'][1])\n",
    "\n",
    "# Create a true copy of my_dataframe\n",
    "print(\"Experiment with a true copy:\")\n",
    "copy_dataframe = df.copy()\n",
    "\n",
    "# Print the starting value of a particular cell.\n",
    "print(\"  Starting value of my_df: %d\" % df['activity'][1])\n",
    "print(\"  Starting value of copy_dataframe: %d\\n\" % copy_dataframe['activity'][1])\n",
    "\n",
    "# Modify a cell in df.\n",
    "df.at[1, 'activity'] = df['activity'][1] + 3\n",
    "print(\"  Updated df: %d\" % df['activity'][1])\n",
    "print(\"  copy_dataframe does not get updated: %d\" % copy_dataframe['activity'][1])"
   ]
  },
  {
   "cell_type": "code",
   "execution_count": 10,
   "id": "458361da",
   "metadata": {},
   "outputs": [
    {
     "data": {
      "text/html": [
       "<div>\n",
       "<style scoped>\n",
       "    .dataframe tbody tr th:only-of-type {\n",
       "        vertical-align: middle;\n",
       "    }\n",
       "\n",
       "    .dataframe tbody tr th {\n",
       "        vertical-align: top;\n",
       "    }\n",
       "\n",
       "    .dataframe thead th {\n",
       "        text-align: right;\n",
       "    }\n",
       "</style>\n",
       "<table border=\"1\" class=\"dataframe\">\n",
       "  <thead>\n",
       "    <tr style=\"text-align: right;\">\n",
       "      <th></th>\n",
       "      <th>Happy</th>\n",
       "      <th>Sad</th>\n",
       "    </tr>\n",
       "  </thead>\n",
       "  <tbody>\n",
       "    <tr>\n",
       "      <th>Class A</th>\n",
       "      <td>20</td>\n",
       "      <td>14</td>\n",
       "    </tr>\n",
       "    <tr>\n",
       "      <th>Class B</th>\n",
       "      <td>32</td>\n",
       "      <td>37</td>\n",
       "    </tr>\n",
       "  </tbody>\n",
       "</table>\n",
       "</div>"
      ],
      "text/plain": [
       "         Happy  Sad\n",
       "Class A     20   14\n",
       "Class B     32   37"
      ]
     },
     "execution_count": 10,
     "metadata": {},
     "output_type": "execute_result"
    }
   ],
   "source": [
    "# assigning the row labels using index\n",
    "pd.DataFrame({'Happy':[20,32], 'Sad':[14,37]},index=['Class A', 'Class B'])"
   ]
  },
  {
   "cell_type": "code",
   "execution_count": 13,
   "id": "25cefe9d",
   "metadata": {},
   "outputs": [
    {
     "data": {
      "text/plain": [
       "Student A    30\n",
       "Student B    35\n",
       "Student C    40\n",
       "Name: Class 10, dtype: int64"
      ]
     },
     "execution_count": 13,
     "metadata": {},
     "output_type": "execute_result"
    }
   ],
   "source": [
    "# create a list using series\n",
    "pd.Series([30, 35, 40], index=['Student A', 'Student B', 'Student C'], name='Class 10')"
   ]
  },
  {
   "cell_type": "code",
   "execution_count": null,
   "id": "3eb56ef9",
   "metadata": {},
   "outputs": [],
   "source": []
  }
 ],
 "metadata": {
  "kernelspec": {
   "display_name": "Python 3",
   "language": "python",
   "name": "python3"
  },
  "language_info": {
   "codemirror_mode": {
    "name": "ipython",
    "version": 3
   },
   "file_extension": ".py",
   "mimetype": "text/x-python",
   "name": "python",
   "nbconvert_exporter": "python",
   "pygments_lexer": "ipython3",
   "version": "3.8.6"
  }
 },
 "nbformat": 4,
 "nbformat_minor": 5
}
